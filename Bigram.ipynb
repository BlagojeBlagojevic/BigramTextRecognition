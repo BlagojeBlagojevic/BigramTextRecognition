{
  "nbformat": 4,
  "nbformat_minor": 0,
  "metadata": {
    "colab": {
      "provenance": []
    },
    "kernelspec": {
      "name": "python3",
      "display_name": "Python 3"
    },
    "language_info": {
      "name": "python"
    },
    "accelerator": "GPU",
    "gpuClass": "standard"
  },
  "cells": [
    {
      "cell_type": "markdown",
      "source": [],
      "metadata": {
        "id": "p9CDz32yK0mj"
      }
    },
    {
      "cell_type": "code",
      "execution_count": 8,
      "metadata": {
        "id": "Can4qoZaKjOi"
      },
      "outputs": [],
      "source": [
        "import torch\n",
        "import torch.nn as nn      # Main imports\n",
        "from torch.nn import functional as F    #nead embeding for \"Convolution\" of all elements in a tensor essentially mean for convol operation\n",
        "\n"
      ]
    },
    {
      "cell_type": "code",
      "source": [
        "# hyperparameters\n",
        "batch_size = 64 # how many independent sequences will we process in parallel?\n",
        "block_size = 256 # what is the maximum context length for predictions?\n",
        "max_iters = 50000\n",
        "eval_interval = 500\n",
        "learning_rate = 3e-4\n",
        "device = 'cuda' if torch.cuda.is_available() else 'cpu' # GPU over CPU for traning\n",
        "eval_iters = 200\n",
        "n_embd = 384\n",
        "n_head = 6\n",
        "n_layer = 6\n",
        "dropout = 0.2\n",
        "# ------------\n",
        "\n",
        "torch.manual_seed(123)    #For init of weights in a same random manner"
      ],
      "metadata": {
        "colab": {
          "base_uri": "https://localhost:8080/"
        },
        "id": "nZqx62hvMJ5e",
        "outputId": "9733c669-4a50-43dd-a4b9-6c501e37fcd3"
      },
      "execution_count": 9,
      "outputs": [
        {
          "output_type": "execute_result",
          "data": {
            "text/plain": [
              "<torch._C.Generator at 0x7f620c55c350>"
            ]
          },
          "metadata": {},
          "execution_count": 9
        }
      ]
    },
    {
      "cell_type": "code",
      "source": [
        "!wget https://raw.githubusercontent.com/karpathy/char-rnn/master/data/tinyshakespeare/input.txt\n",
        "with open('input.txt', 'r', encoding='utf-8') as f:\n",
        "    text = f.read()    \n",
        "#Download and read of a dataset tinyshakespeare"
      ],
      "metadata": {
        "colab": {
          "base_uri": "https://localhost:8080/"
        },
        "id": "ASUR9Q3gMyGy",
        "outputId": "8410123a-a43e-47e4-f6a3-9754af600c07"
      },
      "execution_count": 10,
      "outputs": [
        {
          "output_type": "stream",
          "name": "stdout",
          "text": [
            "--2023-02-07 10:00:13--  https://raw.githubusercontent.com/karpathy/char-rnn/master/data/tinyshakespeare/input.txt\n",
            "Resolving raw.githubusercontent.com (raw.githubusercontent.com)... 185.199.108.133, 185.199.109.133, 185.199.110.133, ...\n",
            "Connecting to raw.githubusercontent.com (raw.githubusercontent.com)|185.199.108.133|:443... connected.\n",
            "HTTP request sent, awaiting response... 200 OK\n",
            "Length: 1115394 (1.1M) [text/plain]\n",
            "Saving to: ‘input.txt’\n",
            "\n",
            "\rinput.txt             0%[                    ]       0  --.-KB/s               \rinput.txt           100%[===================>]   1.06M  --.-KB/s    in 0.007s  \n",
            "\n",
            "2023-02-07 10:00:13 (153 MB/s) - ‘input.txt’ saved [1115394/1115394]\n",
            "\n"
          ]
        }
      ]
    },
    {
      "cell_type": "code",
      "source": [
        "# here are all the unique characters that happened to be in this text\n",
        "chars = sorted(list(set(text)))\n",
        "print(\"All characters in  a text: {}\",chars)\n",
        "vocab_size = len(chars)\n",
        "# create a mapping from characters to integers\n",
        "stoi = { ch:i for i,ch in enumerate(chars) }\n",
        "#print(stoi)\n",
        "itos = { i:ch for i,ch in enumerate(chars) }\n",
        "#print(itos)\n",
        "encode = lambda s: [stoi[c] for c in s] # encoder: take a string, output a list of integers\n",
        "\n",
        "decode = lambda l: ''.join([itos[i] for i in l]) # decoder: take a list of integers, output a string"
      ],
      "metadata": {
        "colab": {
          "base_uri": "https://localhost:8080/"
        },
        "id": "STgyxubyNXiQ",
        "outputId": "0bd64856-ae03-4f08-843f-d1901526a847"
      },
      "execution_count": 11,
      "outputs": [
        {
          "output_type": "stream",
          "name": "stdout",
          "text": [
            "All characters in  a text: {} ['\\n', ' ', '!', '$', '&', \"'\", ',', '-', '.', '3', ':', ';', '?', 'A', 'B', 'C', 'D', 'E', 'F', 'G', 'H', 'I', 'J', 'K', 'L', 'M', 'N', 'O', 'P', 'Q', 'R', 'S', 'T', 'U', 'V', 'W', 'X', 'Y', 'Z', 'a', 'b', 'c', 'd', 'e', 'f', 'g', 'h', 'i', 'j', 'k', 'l', 'm', 'n', 'o', 'p', 'q', 'r', 's', 't', 'u', 'v', 'w', 'x', 'y', 'z']\n"
          ]
        }
      ]
    },
    {
      "cell_type": "code",
      "source": [
        "# Train and test splits\n",
        "data = torch.tensor(encode(text), dtype=torch.long)\n",
        "n = int(0.8*len(data)) # first 80% will be train, rest validation\n",
        "train_data = data[:n]\n",
        "val_data = data[n:]"
      ],
      "metadata": {
        "id": "1UYYbCuwPL1W"
      },
      "execution_count": 12,
      "outputs": []
    },
    {
      "cell_type": "code",
      "source": [
        "# data loading\n",
        "def get_batch(split):\n",
        "    # generate a small batch of data of inputs x and targets y\n",
        "    data = train_data if split == 'train' else val_data\n",
        "    ix = torch.randint(len(data) - block_size, (batch_size,))\n",
        "    x = torch.stack([data[i:i+block_size] for i in ix])\n",
        "    y = torch.stack([data[i+1:i+block_size+1] for i in ix])\n",
        "    x, y = x.to(device), y.to(device)\n",
        "    return x, y"
      ],
      "metadata": {
        "id": "P74D-R7rPdoq"
      },
      "execution_count": 13,
      "outputs": []
    },
    {
      "cell_type": "code",
      "source": [
        "@torch.no_grad()\n",
        "def estimate_loss():\n",
        "    out = {}\n",
        "    model.eval()\n",
        "    for split in ['train', 'val']:\n",
        "        losses = torch.zeros(eval_iters)\n",
        "        for k in range(eval_iters):\n",
        "            X, Y = get_batch(split)\n",
        "            logits, loss = model(X, Y)\n",
        "            losses[k] = loss.item()\n",
        "        out[split] = losses.mean()\n",
        "    model.train()\n",
        "    return out"
      ],
      "metadata": {
        "id": "oVm2eXkuQVtq"
      },
      "execution_count": 14,
      "outputs": []
    },
    {
      "cell_type": "code",
      "source": [
        "class BigramLanguageModel(nn.Module):\n",
        "\n",
        "    def __init__(self, vocab_size):\n",
        "        super().__init__()\n",
        "        # each token directly reads off the logits for the next token from a lookup table\n",
        "        self.token_embedding_table = nn.Embedding(vocab_size, vocab_size)\n",
        "\n",
        "    def forward(self, idx, targets=None):\n",
        "\n",
        "        # idx and targets are both (B,T) tensor of integers\n",
        "        logits = self.token_embedding_table(idx) # (B,T,C)\n",
        "\n",
        "        if targets is None:\n",
        "            loss = None\n",
        "        else:\n",
        "            B, T, C = logits.shape\n",
        "            logits = logits.view(B*T, C)\n",
        "            targets = targets.view(B*T)\n",
        "            loss = F.cross_entropy(logits, targets)\n",
        "\n",
        "        return logits, loss\n",
        "\n",
        "    def generate(self, idx, max_new_tokens):\n",
        "        # idx is (B, T) array of indices in the current context\n",
        "        for _ in range(max_new_tokens):\n",
        "            # get the predictions\n",
        "            logits, loss = self(idx)\n",
        "            # focus only on the last time step\n",
        "            logits = logits[:, -1, :] # becomes (B, C)\n",
        "            # apply softmax to get probabilities\n",
        "            probs = F.softmax(logits, dim=-1) # (B, C)\n",
        "            # sample from the distribution\n",
        "            idx_next = torch.multinomial(probs, num_samples=1) # (B, 1)\n",
        "            # append sampled index to the running sequence\n",
        "            idx = torch.cat((idx, idx_next), dim=1) # (B, T+1)\n",
        "        return idx\n",
        "    def generate(self, idx, max_new_tokens):\n",
        "        # idx is (B, T) array of indices in the current context\n",
        "        for _ in range(max_new_tokens):\n",
        "            # crop idx to the last block_size tokens\n",
        "            idx_cond = idx[:, -block_size:]\n",
        "            # get the predictions\n",
        "            logits, loss = self(idx_cond)\n",
        "            # focus only on the last time step\n",
        "            logits = logits[:, -1, :] # becomes (B, C)\n",
        "            # apply softmax to get probabilities\n",
        "            probs = F.softmax(logits, dim=-1) # (B, C)\n",
        "            # sample from the distribution\n",
        "            idx_next = torch.multinomial(probs, num_samples=1) # (B, 1)\n",
        "            # append sampled index to the running sequence\n",
        "            idx = torch.cat((idx, idx_next), dim=1) # (B, T+1)\n",
        "        return idx\n",
        "\n",
        "        "
      ],
      "metadata": {
        "id": "LmYDElOHQeHZ"
      },
      "execution_count": 15,
      "outputs": []
    },
    {
      "cell_type": "code",
      "source": [
        "model = BigramLanguageModel(vocab_size)\n",
        "m = model.to(device)\n",
        "\n",
        "# create a PyTorch optimizer\n",
        "optimizer = torch.optim.AdamW(model.parameters(), lr=learning_rate)\n"
      ],
      "metadata": {
        "id": "ghpaAMYJQyNa"
      },
      "execution_count": 16,
      "outputs": []
    },
    {
      "cell_type": "code",
      "source": [
        "for iter in range(max_iters):\n",
        "\n",
        "    # every once in a while evaluate the loss on train and val sets\n",
        "    if iter % eval_interval == 0:\n",
        "        losses = estimate_loss()\n",
        "        print(f\"step {iter}: train loss {losses['train']:.4f}, val loss {losses['val']:.4f}\")\n",
        "\n",
        "    # sample a batch of data\n",
        "    xb, yb = get_batch('train')\n",
        "\n",
        "    # evaluate the loss\n",
        "    logits, loss = model(xb, yb)\n",
        "    optimizer.zero_grad(set_to_none=True)\n",
        "    loss.backward()\n",
        "    optimizer.step()"
      ],
      "metadata": {
        "colab": {
          "base_uri": "https://localhost:8080/"
        },
        "id": "uaxUXyB1RKeM",
        "outputId": "20bdaffa-fa55-4bc5-91e1-2fb275ddb83d"
      },
      "execution_count": 17,
      "outputs": [
        {
          "output_type": "stream",
          "name": "stdout",
          "text": [
            "step 0: train loss 4.6162, val loss 4.6161\n",
            "step 500: train loss 4.3983, val loss 4.4021\n",
            "step 1000: train loss 4.1959, val loss 4.2030\n",
            "step 1500: train loss 4.0084, val loss 4.0183\n",
            "step 2000: train loss 3.8356, val loss 3.8471\n",
            "step 2500: train loss 3.6773, val loss 3.6909\n",
            "step 3000: train loss 3.5315, val loss 3.5489\n",
            "step 3500: train loss 3.3989, val loss 3.4196\n",
            "step 4000: train loss 3.2799, val loss 3.3016\n",
            "step 4500: train loss 3.1720, val loss 3.1965\n",
            "step 5000: train loss 3.0756, val loss 3.1014\n",
            "step 5500: train loss 2.9898, val loss 3.0177\n",
            "step 6000: train loss 2.9145, val loss 2.9450\n",
            "step 6500: train loss 2.8476, val loss 2.8803\n",
            "step 7000: train loss 2.7895, val loss 2.8218\n",
            "step 7500: train loss 2.7387, val loss 2.7734\n",
            "step 8000: train loss 2.6950, val loss 2.7301\n",
            "step 8500: train loss 2.6565, val loss 2.6933\n",
            "step 9000: train loss 2.6226, val loss 2.6630\n",
            "step 9500: train loss 2.5963, val loss 2.6366\n",
            "step 10000: train loss 2.5725, val loss 2.6137\n",
            "step 10500: train loss 2.5515, val loss 2.5954\n",
            "step 11000: train loss 2.5360, val loss 2.5794\n",
            "step 11500: train loss 2.5219, val loss 2.5662\n",
            "step 12000: train loss 2.5123, val loss 2.5561\n",
            "step 12500: train loss 2.5026, val loss 2.5474\n",
            "step 13000: train loss 2.4938, val loss 2.5411\n",
            "step 13500: train loss 2.4884, val loss 2.5347\n",
            "step 14000: train loss 2.4822, val loss 2.5299\n",
            "step 14500: train loss 2.4783, val loss 2.5263\n",
            "step 15000: train loss 2.4751, val loss 2.5233\n",
            "step 15500: train loss 2.4726, val loss 2.5192\n",
            "step 16000: train loss 2.4695, val loss 2.5168\n",
            "step 16500: train loss 2.4672, val loss 2.5152\n",
            "step 17000: train loss 2.4643, val loss 2.5127\n",
            "step 17500: train loss 2.4636, val loss 2.5108\n",
            "step 18000: train loss 2.4591, val loss 2.5110\n",
            "step 18500: train loss 2.4601, val loss 2.5095\n",
            "step 19000: train loss 2.4597, val loss 2.5084\n",
            "step 19500: train loss 2.4578, val loss 2.5077\n",
            "step 20000: train loss 2.4564, val loss 2.5070\n",
            "step 20500: train loss 2.4556, val loss 2.5058\n",
            "step 21000: train loss 2.4545, val loss 2.5054\n",
            "step 21500: train loss 2.4550, val loss 2.5043\n",
            "step 22000: train loss 2.4545, val loss 2.5048\n",
            "step 22500: train loss 2.4541, val loss 2.5042\n",
            "step 23000: train loss 2.4537, val loss 2.5049\n",
            "step 23500: train loss 2.4514, val loss 2.5048\n",
            "step 24000: train loss 2.4509, val loss 2.5054\n",
            "step 24500: train loss 2.4521, val loss 2.5030\n",
            "step 25000: train loss 2.4528, val loss 2.5045\n",
            "step 25500: train loss 2.4510, val loss 2.5045\n",
            "step 26000: train loss 2.4512, val loss 2.5045\n",
            "step 26500: train loss 2.4503, val loss 2.5041\n",
            "step 27000: train loss 2.4506, val loss 2.5033\n",
            "step 27500: train loss 2.4504, val loss 2.5032\n",
            "step 28000: train loss 2.4490, val loss 2.5033\n",
            "step 28500: train loss 2.4501, val loss 2.5044\n",
            "step 29000: train loss 2.4492, val loss 2.5041\n",
            "step 29500: train loss 2.4505, val loss 2.5041\n",
            "step 30000: train loss 2.4486, val loss 2.5036\n",
            "step 30500: train loss 2.4493, val loss 2.5042\n",
            "step 31000: train loss 2.4491, val loss 2.5034\n",
            "step 31500: train loss 2.4486, val loss 2.5060\n",
            "step 32000: train loss 2.4482, val loss 2.5022\n",
            "step 32500: train loss 2.4490, val loss 2.5048\n",
            "step 33000: train loss 2.4475, val loss 2.5040\n",
            "step 33500: train loss 2.4481, val loss 2.5056\n",
            "step 34000: train loss 2.4487, val loss 2.5063\n",
            "step 34500: train loss 2.4482, val loss 2.5066\n",
            "step 35000: train loss 2.4491, val loss 2.5069\n",
            "step 35500: train loss 2.4492, val loss 2.5073\n",
            "step 36000: train loss 2.4472, val loss 2.5068\n",
            "step 36500: train loss 2.4480, val loss 2.5070\n",
            "step 37000: train loss 2.4486, val loss 2.5067\n",
            "step 37500: train loss 2.4480, val loss 2.5073\n",
            "step 38000: train loss 2.4476, val loss 2.5086\n",
            "step 38500: train loss 2.4489, val loss 2.5081\n",
            "step 39000: train loss 2.4482, val loss 2.5059\n",
            "step 39500: train loss 2.4477, val loss 2.5077\n",
            "step 40000: train loss 2.4488, val loss 2.5075\n",
            "step 40500: train loss 2.4483, val loss 2.5092\n",
            "step 41000: train loss 2.4484, val loss 2.5081\n",
            "step 41500: train loss 2.4481, val loss 2.5095\n",
            "step 42000: train loss 2.4481, val loss 2.5085\n",
            "step 42500: train loss 2.4480, val loss 2.5097\n",
            "step 43000: train loss 2.4498, val loss 2.5094\n",
            "step 43500: train loss 2.4478, val loss 2.5090\n",
            "step 44000: train loss 2.4476, val loss 2.5083\n",
            "step 44500: train loss 2.4489, val loss 2.5099\n",
            "step 45000: train loss 2.4476, val loss 2.5078\n",
            "step 45500: train loss 2.4492, val loss 2.5094\n",
            "step 46000: train loss 2.4493, val loss 2.5090\n",
            "step 46500: train loss 2.4490, val loss 2.5090\n",
            "step 47000: train loss 2.4501, val loss 2.5090\n",
            "step 47500: train loss 2.4485, val loss 2.5113\n",
            "step 48000: train loss 2.4484, val loss 2.5091\n",
            "step 48500: train loss 2.4491, val loss 2.5108\n",
            "step 49000: train loss 2.4474, val loss 2.5101\n",
            "step 49500: train loss 2.4497, val loss 2.5100\n"
          ]
        }
      ]
    },
    {
      "cell_type": "code",
      "source": [
        "# generate from the model\n",
        "context = torch.zeros((1, 1), dtype=torch.long, device=device)\n",
        "print(decode(m.generate(context, max_new_tokens=500)[0].tolist()))"
      ],
      "metadata": {
        "colab": {
          "base_uri": "https://localhost:8080/"
        },
        "id": "0V84O9yRSHVs",
        "outputId": "ab90de36-2795-47fc-ac90-9703f8f9b154"
      },
      "execution_count": 18,
      "outputs": [
        {
          "output_type": "stream",
          "name": "stdout",
          "text": [
            "\n",
            "IESCI lly Co, sig haimor o. merit.\n",
            "bl outan RKI:\n",
            "THARG je,\n",
            "TUCE he? we wenathse.\n",
            "\n",
            "BUCUL:\n",
            "Thendgn hedil cor s thecath,\n",
            "Hill'dathureenos mon s t weo, n dis?\n",
            "Anhmyoowanevetig aindanous we ce y:\n",
            "\n",
            "angrad?\n",
            "\n",
            "S d thefour fomy. G es?\n",
            "ADin ys aritheave anorkithyou gn INGoor.\n",
            "DWhes becy eerexpacat she hisoled gnodrth p tinghe'tilis thome t d.\n",
            "QUSow lawope dvee, n\n",
            "\n",
            "An tilorous fimy,\n",
            "LK:\n",
            "wisigang, hereld ay, toa hitised o bus;\n",
            "TEDomat alolougr: mathalimourer.\n",
            "Andarofort n e;\n",
            "QULA:\n",
            "S:\n",
            "HAstsarr, womun lity\n",
            "Sou\n"
          ]
        }
      ]
    }
  ]
}